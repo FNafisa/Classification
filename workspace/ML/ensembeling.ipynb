{
  "cells": [
    {
      "cell_type": "code",
      "execution_count": 36,
      "metadata": {
        "id": "iZP85VckQEGG"
      },
      "outputs": [],
      "source": [
        "import numpy as np  # for array\n",
        "import pandas as pd  # for csv files and dataframe\n",
        "import matplotlib.pyplot as plt  # for plotting\n",
        "import seaborn as sns  # plotting\n",
        "\n",
        "from sklearn import model_selection\n",
        "from sklearn.model_selection import train_test_split\n",
        "\n",
        "from prettytable import PrettyTable  # To print in tabular format\n",
        "\n",
        "from sklearn.metrics import accuracy_score, confusion_matrix, make_scorer  # Scoring functions\n",
        "from sklearn.metrics import auc, f1_score, roc_curve, roc_auc_score  # Scoring fns"
      ]
    },
    {
      "cell_type": "code",
      "execution_count": 37,
      "metadata": {},
      "outputs": [],
      "source": [
        "def false_alarm_rate(y_true, y_pred):\n",
        "    \"\"\"\n",
        "    This function will return False Alarm Rate for given true and predicted values.\n",
        "    False Alarm Rate is average of False Negetive Rate and False Positive Rate\n",
        "    \"\"\"\n",
        "    tn, fp, fn, tp = confusion_matrix(y_true, y_pred).ravel()\n",
        "    FPR = fp / (fp + tn)  # False positive rate\n",
        "    FNR = fn / (fn + tp)  # False negetive rate\n",
        "    return (FPR+FNR)/2  # False alarm rate\n",
        "\n",
        "def evaluate_result(clf, x_train, y_train, x_test, y_test, model_name):\n",
        "    \"\"\" \n",
        "    Utility function to get result on test data from best found classifier using hyper parameter tuning.\n",
        "    Print the accuracy and False Alarm Rate for both train and test.\n",
        "    Plot confusion matrix of train and test.\n",
        "    \"\"\"\n",
        "    cmap=sns.light_palette(\"blue\")\n",
        "    labels= ['non-attack', 'attack']\n",
        "    \n",
        "    # Training te best model\n",
        "    clf.fit(x_train, y_train)\n",
        "    y_train_pred = clf.predict(x_train)  # prediction on train data\n",
        "    y_test_pred = clf.predict(x_test)  # prediction on test data\n",
        "    \n",
        "    # auc curve\n",
        "    train_fpr, train_tpr, tr_thresholds = roc_curve(y_train, y_train_pred)\n",
        "    test_fpr, test_tpr, te_thresholds = roc_curve(y_test, y_test_pred)\n",
        "    \n",
        "    # Scores of train dataset\n",
        "    train_auc = auc(train_fpr, train_tpr)\n",
        "    train_f1 = f1_score(y_train, y_train_pred)\n",
        "    train_far = false_alarm_rate(y_train, y_train_pred)\n",
        "    \n",
        "    # Scores of test dataset\n",
        "    test_auc = auc(test_fpr, test_tpr)\n",
        "    test_f1 = f1_score(y_test, y_test_pred)\n",
        "    test_far = false_alarm_rate(y_test, y_test_pred)\n",
        "    \n",
        "    # Printing the result as a table\n",
        "    x = PrettyTable()\n",
        "    x.field_names = ['Dataset', 'Model', 'AUC', 'F1-score', 'False Alarm Rate']\n",
        "    x.add_row(['Train', model_name, train_auc, train_f1, train_far])\n",
        "    x.add_row(['Test', model_name, test_auc, test_f1, test_far])\n",
        "    print(x)\n",
        "\n",
        "    # Plot AUC curve\n",
        "    plt.figure()\n",
        "    plt.plot(train_fpr, train_tpr, label=f\"Train AUC: {train_auc}\")\n",
        "    plt.plot(test_fpr, test_tpr, label=f\"Test AUC: {test_auc}\")\n",
        "    plt.grid()\n",
        "    plt.legend()\n",
        "    plt.show()\n",
        "\n",
        "    # Confusion martix of train and test\n",
        "    # Train confusion matrix\n",
        "    plt.figure(figsize=(16,5))\n",
        "    plt.subplot(1,2,1)\n",
        "    sns.heatmap(confusion_matrix(y_train, y_train_pred),\n",
        "                annot=True, cmap=cmap, fmt='d',\n",
        "                xticklabels=labels, yticklabels=labels)\n",
        "    plt.xlabel(\"Predicted\")\n",
        "    plt.ylabel(\"Actual\")\n",
        "    plt.title(\"Train Confusion Matrix\")\n",
        "\n",
        "    # Test confusion matrix\n",
        "    plt.subplot(1,2,2)\n",
        "    sns.heatmap(confusion_matrix(y_test, y_test_pred),\n",
        "                annot=True, cmap=cmap, fmt='d',\n",
        "                xticklabels=labels, yticklabels=labels)\n",
        "    plt.xlabel(\"Predicted\")\n",
        "    plt.ylabel(\"Actual\")\n",
        "    plt.title(\"Test Confusion Matrix\")\n",
        "    plt.show()\n",
        "    \n",
        "    # Returning scores of test data\n",
        "    return clf, test_auc, test_f1, test_far"
      ]
    },
    {
      "cell_type": "code",
      "execution_count": 3,
      "metadata": {},
      "outputs": [
        {
          "name": "stdout",
          "output_type": "stream",
          "text": [
            "c:\\Users\\user\\T5\\PROJECT\\Classification\n"
          ]
        }
      ],
      "source": [
        "cd .."
      ]
    },
    {
      "cell_type": "code",
      "execution_count": 5,
      "metadata": {
        "id": "Zrzbj5PgjXM_"
      },
      "outputs": [],
      "source": [
        "df = pd.read_csv('data/colab.csv')"
      ]
    },
    {
      "cell_type": "code",
      "execution_count": 4,
      "metadata": {},
      "outputs": [],
      "source": [
        "X = pd.read_csv('data/pre-processed-x_train-data.csv')\n",
        "y = pd.read_csv('data/pre-processed-y_train-data.csv')\n",
        "df = X.join(y)\n",
        "train= df.copy(deep=True)"
      ]
    },
    {
      "cell_type": "code",
      "execution_count": 5,
      "metadata": {},
      "outputs": [],
      "source": [
        "del df, X, y\n",
        "X = train.iloc[:,:-1]\n",
        "y = train.iloc[:,-1]\n",
        "del train"
      ]
    },
    {
      "cell_type": "code",
      "execution_count": 6,
      "metadata": {},
      "outputs": [],
      "source": [
        "\n",
        "X_train, X_test, y_train, X_test = train_test_split(X, y, test_size=0.25, random_state=42)"
      ]
    },
    {
      "cell_type": "code",
      "execution_count": 7,
      "metadata": {
        "id": "5cTMWvM6jXkl"
      },
      "outputs": [],
      "source": [
        "from sklearn import linear_model, neighbors, ensemble"
      ]
    },
    {
      "cell_type": "code",
      "execution_count": 11,
      "metadata": {
        "id": "_p_XBO_TjXqi"
      },
      "outputs": [],
      "source": [
        "knn_model = neighbors.KNeighborsClassifier(n_neighbors=29, n_jobs=-1)\n",
        "lr_model = LogisticRegression(C=100, solver='newton-cg')\n",
        "dt_model = DecisionTreeClassifier(ccp_alpha=0, criterion='entropy', max_depth=4,\n",
        "                       min_impurity_decrease=0, min_weight_fraction_leaf=0)\n",
        "rf_model = RandomForestClassifier(max_depth=90, max_features=2, min_samples_leaf=5,\n",
        "                       min_samples_split=12)\n",
        "et_model = ensemble.ExtraTreesClassifier(n_estimators=100, random_state=1)\n",
        "models = [\"lr_model\", \"knn_model\", \"rf_model\", \"et_model\"]"
      ]
    },
    {
      "cell_type": "code",
      "execution_count": 12,
      "metadata": {
        "id": "KsXx0xXYjXww"
      },
      "outputs": [],
      "source": [
        "import pickle"
      ]
    },
    {
      "cell_type": "code",
      "execution_count": 17,
      "metadata": {},
      "outputs": [
        {
          "name": "stdout",
          "output_type": "stream",
          "text": [
            "c:\\Users\\user\\T5\\PROJECT\\classification\\workspace\\ml\n"
          ]
        }
      ],
      "source": [
        "cd ml"
      ]
    },
    {
      "cell_type": "code",
      "execution_count": 18,
      "metadata": {
        "id": "o4JIXJ-rjX23"
      },
      "outputs": [],
      "source": [
        "for model_name in models:\n",
        "    \n",
        "    curr_model = eval(model_name)\n",
        "    \n",
        "    curr_model.fit(X_train, y_train)\n",
        "    \n",
        "    with open(f\"models/{model_name}.pickle\", \"wb\") as pfile:\n",
        "        pickle.dump(curr_model, pfile)"
      ]
    },
    {
      "cell_type": "code",
      "execution_count": 10,
      "metadata": {
        "colab": {
          "base_uri": "https://localhost:8080/",
          "height": 511
        },
        "id": "QFL3WXkZmUFt",
        "outputId": "9ba8efc4-e111-4e39-b19a-62bc47a97d34"
      },
      "outputs": [],
      "source": [
        "import pandas as pd\n",
        "import seaborn as sns\n",
        "from matplotlib import pyplot as plt\n",
        "import pickle\n",
        "\n",
        "from sklearn.model_selection import train_test_split\n",
        "from sklearn.metrics import accuracy_score\n",
        "\n",
        "from sklearn.neighbors import KNeighborsClassifier\n",
        "from sklearn.linear_model import LogisticRegression\n",
        "from sklearn.tree import DecisionTreeClassifier\n",
        "from sklearn.ensemble import RandomForestClassifier, ExtraTreesClassifier, VotingClassifier\n",
        "\n",
        "from mlxtend.classifier import StackingClassifier # <-- note: this is not from sklearn!\n",
        "\n",
        "sns.set_style(\"whitegrid\")"
      ]
    },
    {
      "cell_type": "code",
      "execution_count": 18,
      "metadata": {},
      "outputs": [
        {
          "data": {
            "text/plain": [
              "'c:\\\\Users\\\\user\\\\T5\\\\PROJECT\\\\Classification\\\\workspace'"
            ]
          },
          "execution_count": 18,
          "metadata": {},
          "output_type": "execute_result"
        }
      ],
      "source": [
        "pwd"
      ]
    },
    {
      "cell_type": "code",
      "execution_count": 4,
      "metadata": {
        "id": "Fk6yqKrOmequ"
      },
      "outputs": [],
      "source": [
        "df = pd.read_csv('data/colab.csv')\n",
        "df = df.iloc[:,1:]"
      ]
    },
    {
      "cell_type": "code",
      "execution_count": 22,
      "metadata": {},
      "outputs": [
        {
          "name": "stdout",
          "output_type": "stream",
          "text": [
            "c:\\Users\\user\\T5\\PROJECT\\classification\\data\n"
          ]
        }
      ],
      "source": [
        "cd data"
      ]
    },
    {
      "cell_type": "code",
      "execution_count": 23,
      "metadata": {},
      "outputs": [],
      "source": [
        "X = pd.read_csv('pre-processed-x_train-data.csv')\n",
        "y = pd.read_csv('pre-processed-y_train-data.csv')\n",
        "df = X.join(y)\n",
        "train= df.copy(deep=True)"
      ]
    },
    {
      "cell_type": "code",
      "execution_count": 30,
      "metadata": {},
      "outputs": [
        {
          "data": {
            "text/html": [
              "<div>\n",
              "<style scoped>\n",
              "    .dataframe tbody tr th:only-of-type {\n",
              "        vertical-align: middle;\n",
              "    }\n",
              "\n",
              "    .dataframe tbody tr th {\n",
              "        vertical-align: top;\n",
              "    }\n",
              "\n",
              "    .dataframe thead th {\n",
              "        text-align: right;\n",
              "    }\n",
              "</style>\n",
              "<table border=\"1\" class=\"dataframe\">\n",
              "  <thead>\n",
              "    <tr style=\"text-align: right;\">\n",
              "      <th></th>\n",
              "      <th>dur</th>\n",
              "      <th>spkts</th>\n",
              "      <th>dpkts</th>\n",
              "      <th>sbytes</th>\n",
              "      <th>dbytes</th>\n",
              "      <th>rate</th>\n",
              "      <th>sttl</th>\n",
              "      <th>dttl</th>\n",
              "      <th>sload</th>\n",
              "      <th>dload</th>\n",
              "      <th>...</th>\n",
              "      <th>state_CON</th>\n",
              "      <th>state_ECO</th>\n",
              "      <th>state_FIN</th>\n",
              "      <th>state_INT</th>\n",
              "      <th>state_PAR</th>\n",
              "      <th>state_REQ</th>\n",
              "      <th>state_RST</th>\n",
              "      <th>state_URN</th>\n",
              "      <th>state_no</th>\n",
              "      <th>label</th>\n",
              "    </tr>\n",
              "  </thead>\n",
              "  <tbody>\n",
              "    <tr>\n",
              "      <th>0</th>\n",
              "      <td>-0.191029</td>\n",
              "      <td>-0.104456</td>\n",
              "      <td>-0.135769</td>\n",
              "      <td>-0.049134</td>\n",
              "      <td>-0.102726</td>\n",
              "      <td>-0.576371</td>\n",
              "      <td>0.703839</td>\n",
              "      <td>1.578100</td>\n",
              "      <td>-0.389897</td>\n",
              "      <td>-0.273700</td>\n",
              "      <td>...</td>\n",
              "      <td>0.0</td>\n",
              "      <td>0.0</td>\n",
              "      <td>1.0</td>\n",
              "      <td>0.0</td>\n",
              "      <td>0.0</td>\n",
              "      <td>0.0</td>\n",
              "      <td>0.0</td>\n",
              "      <td>0.0</td>\n",
              "      <td>0.0</td>\n",
              "      <td>0</td>\n",
              "    </tr>\n",
              "    <tr>\n",
              "      <th>1</th>\n",
              "      <td>-0.109485</td>\n",
              "      <td>-0.046014</td>\n",
              "      <td>0.172599</td>\n",
              "      <td>-0.046410</td>\n",
              "      <td>0.188544</td>\n",
              "      <td>-0.576345</td>\n",
              "      <td>-1.141901</td>\n",
              "      <td>1.560002</td>\n",
              "      <td>-0.389928</td>\n",
              "      <td>-0.069233</td>\n",
              "      <td>...</td>\n",
              "      <td>0.0</td>\n",
              "      <td>0.0</td>\n",
              "      <td>1.0</td>\n",
              "      <td>0.0</td>\n",
              "      <td>0.0</td>\n",
              "      <td>0.0</td>\n",
              "      <td>0.0</td>\n",
              "      <td>0.0</td>\n",
              "      <td>0.0</td>\n",
              "      <td>0</td>\n",
              "    </tr>\n",
              "    <tr>\n",
              "      <th>2</th>\n",
              "      <td>0.040699</td>\n",
              "      <td>-0.089845</td>\n",
              "      <td>-0.026933</td>\n",
              "      <td>-0.048527</td>\n",
              "      <td>-0.012133</td>\n",
              "      <td>-0.576734</td>\n",
              "      <td>-1.141901</td>\n",
              "      <td>1.560002</td>\n",
              "      <td>-0.389964</td>\n",
              "      <td>-0.252044</td>\n",
              "      <td>...</td>\n",
              "      <td>0.0</td>\n",
              "      <td>0.0</td>\n",
              "      <td>1.0</td>\n",
              "      <td>0.0</td>\n",
              "      <td>0.0</td>\n",
              "      <td>0.0</td>\n",
              "      <td>0.0</td>\n",
              "      <td>0.0</td>\n",
              "      <td>0.0</td>\n",
              "      <td>0</td>\n",
              "    </tr>\n",
              "    <tr>\n",
              "      <th>3</th>\n",
              "      <td>0.049729</td>\n",
              "      <td>-0.060624</td>\n",
              "      <td>-0.063212</td>\n",
              "      <td>-0.047016</td>\n",
              "      <td>-0.098563</td>\n",
              "      <td>-0.576737</td>\n",
              "      <td>-1.141901</td>\n",
              "      <td>1.560002</td>\n",
              "      <td>-0.389958</td>\n",
              "      <td>-0.275821</td>\n",
              "      <td>...</td>\n",
              "      <td>0.0</td>\n",
              "      <td>0.0</td>\n",
              "      <td>1.0</td>\n",
              "      <td>0.0</td>\n",
              "      <td>0.0</td>\n",
              "      <td>0.0</td>\n",
              "      <td>0.0</td>\n",
              "      <td>0.0</td>\n",
              "      <td>0.0</td>\n",
              "      <td>0</td>\n",
              "    </tr>\n",
              "    <tr>\n",
              "      <th>4</th>\n",
              "      <td>-0.140417</td>\n",
              "      <td>-0.075235</td>\n",
              "      <td>-0.117630</td>\n",
              "      <td>-0.047554</td>\n",
              "      <td>-0.102057</td>\n",
              "      <td>-0.576617</td>\n",
              "      <td>0.723268</td>\n",
              "      <td>1.560002</td>\n",
              "      <td>-0.389927</td>\n",
              "      <td>-0.275561</td>\n",
              "      <td>...</td>\n",
              "      <td>0.0</td>\n",
              "      <td>0.0</td>\n",
              "      <td>1.0</td>\n",
              "      <td>0.0</td>\n",
              "      <td>0.0</td>\n",
              "      <td>0.0</td>\n",
              "      <td>0.0</td>\n",
              "      <td>0.0</td>\n",
              "      <td>0.0</td>\n",
              "      <td>0</td>\n",
              "    </tr>\n",
              "    <tr>\n",
              "      <th>...</th>\n",
              "      <td>...</td>\n",
              "      <td>...</td>\n",
              "      <td>...</td>\n",
              "      <td>...</td>\n",
              "      <td>...</td>\n",
              "      <td>...</td>\n",
              "      <td>...</td>\n",
              "      <td>...</td>\n",
              "      <td>...</td>\n",
              "      <td>...</td>\n",
              "      <td>...</td>\n",
              "      <td>...</td>\n",
              "      <td>...</td>\n",
              "      <td>...</td>\n",
              "      <td>...</td>\n",
              "      <td>...</td>\n",
              "      <td>...</td>\n",
              "      <td>...</td>\n",
              "      <td>...</td>\n",
              "      <td>...</td>\n",
              "      <td>...</td>\n",
              "    </tr>\n",
              "    <tr>\n",
              "      <th>175336</th>\n",
              "      <td>-0.209773</td>\n",
              "      <td>-0.133677</td>\n",
              "      <td>-0.172047</td>\n",
              "      <td>-0.049958</td>\n",
              "      <td>-0.103923</td>\n",
              "      <td>0.094951</td>\n",
              "      <td>0.723268</td>\n",
              "      <td>-0.720406</td>\n",
              "      <td>-0.120980</td>\n",
              "      <td>-0.277208</td>\n",
              "      <td>...</td>\n",
              "      <td>0.0</td>\n",
              "      <td>0.0</td>\n",
              "      <td>0.0</td>\n",
              "      <td>1.0</td>\n",
              "      <td>0.0</td>\n",
              "      <td>0.0</td>\n",
              "      <td>0.0</td>\n",
              "      <td>0.0</td>\n",
              "      <td>0.0</td>\n",
              "      <td>1</td>\n",
              "    </tr>\n",
              "    <tr>\n",
              "      <th>175337</th>\n",
              "      <td>-0.131728</td>\n",
              "      <td>-0.075235</td>\n",
              "      <td>-0.099490</td>\n",
              "      <td>-0.047062</td>\n",
              "      <td>-0.101459</td>\n",
              "      <td>-0.576616</td>\n",
              "      <td>0.723268</td>\n",
              "      <td>1.560002</td>\n",
              "      <td>-0.389926</td>\n",
              "      <td>-0.275183</td>\n",
              "      <td>...</td>\n",
              "      <td>0.0</td>\n",
              "      <td>0.0</td>\n",
              "      <td>1.0</td>\n",
              "      <td>0.0</td>\n",
              "      <td>0.0</td>\n",
              "      <td>0.0</td>\n",
              "      <td>0.0</td>\n",
              "      <td>0.0</td>\n",
              "      <td>0.0</td>\n",
              "      <td>1</td>\n",
              "    </tr>\n",
              "    <tr>\n",
              "      <th>175338</th>\n",
              "      <td>-0.209773</td>\n",
              "      <td>-0.133677</td>\n",
              "      <td>-0.172047</td>\n",
              "      <td>-0.049958</td>\n",
              "      <td>-0.103923</td>\n",
              "      <td>0.094951</td>\n",
              "      <td>0.723268</td>\n",
              "      <td>-0.720406</td>\n",
              "      <td>-0.120980</td>\n",
              "      <td>-0.277208</td>\n",
              "      <td>...</td>\n",
              "      <td>0.0</td>\n",
              "      <td>0.0</td>\n",
              "      <td>0.0</td>\n",
              "      <td>1.0</td>\n",
              "      <td>0.0</td>\n",
              "      <td>0.0</td>\n",
              "      <td>0.0</td>\n",
              "      <td>0.0</td>\n",
              "      <td>0.0</td>\n",
              "      <td>1</td>\n",
              "    </tr>\n",
              "    <tr>\n",
              "      <th>175339</th>\n",
              "      <td>-0.209773</td>\n",
              "      <td>-0.133677</td>\n",
              "      <td>-0.172047</td>\n",
              "      <td>-0.049958</td>\n",
              "      <td>-0.103923</td>\n",
              "      <td>0.094951</td>\n",
              "      <td>0.723268</td>\n",
              "      <td>-0.720406</td>\n",
              "      <td>-0.120980</td>\n",
              "      <td>-0.277208</td>\n",
              "      <td>...</td>\n",
              "      <td>0.0</td>\n",
              "      <td>0.0</td>\n",
              "      <td>0.0</td>\n",
              "      <td>1.0</td>\n",
              "      <td>0.0</td>\n",
              "      <td>0.0</td>\n",
              "      <td>0.0</td>\n",
              "      <td>0.0</td>\n",
              "      <td>0.0</td>\n",
              "      <td>1</td>\n",
              "    </tr>\n",
              "    <tr>\n",
              "      <th>175340</th>\n",
              "      <td>-0.209773</td>\n",
              "      <td>-0.133677</td>\n",
              "      <td>-0.172047</td>\n",
              "      <td>-0.049958</td>\n",
              "      <td>-0.103923</td>\n",
              "      <td>0.094951</td>\n",
              "      <td>0.723268</td>\n",
              "      <td>-0.720406</td>\n",
              "      <td>-0.120980</td>\n",
              "      <td>-0.277208</td>\n",
              "      <td>...</td>\n",
              "      <td>0.0</td>\n",
              "      <td>0.0</td>\n",
              "      <td>0.0</td>\n",
              "      <td>1.0</td>\n",
              "      <td>0.0</td>\n",
              "      <td>0.0</td>\n",
              "      <td>0.0</td>\n",
              "      <td>0.0</td>\n",
              "      <td>0.0</td>\n",
              "      <td>1</td>\n",
              "    </tr>\n",
              "  </tbody>\n",
              "</table>\n",
              "<p>175341 rows × 189 columns</p>\n",
              "</div>"
            ],
            "text/plain": [
              "             dur     spkts     dpkts    sbytes    dbytes      rate      sttl  \\\n",
              "0      -0.191029 -0.104456 -0.135769 -0.049134 -0.102726 -0.576371  0.703839   \n",
              "1      -0.109485 -0.046014  0.172599 -0.046410  0.188544 -0.576345 -1.141901   \n",
              "2       0.040699 -0.089845 -0.026933 -0.048527 -0.012133 -0.576734 -1.141901   \n",
              "3       0.049729 -0.060624 -0.063212 -0.047016 -0.098563 -0.576737 -1.141901   \n",
              "4      -0.140417 -0.075235 -0.117630 -0.047554 -0.102057 -0.576617  0.723268   \n",
              "...          ...       ...       ...       ...       ...       ...       ...   \n",
              "175336 -0.209773 -0.133677 -0.172047 -0.049958 -0.103923  0.094951  0.723268   \n",
              "175337 -0.131728 -0.075235 -0.099490 -0.047062 -0.101459 -0.576616  0.723268   \n",
              "175338 -0.209773 -0.133677 -0.172047 -0.049958 -0.103923  0.094951  0.723268   \n",
              "175339 -0.209773 -0.133677 -0.172047 -0.049958 -0.103923  0.094951  0.723268   \n",
              "175340 -0.209773 -0.133677 -0.172047 -0.049958 -0.103923  0.094951  0.723268   \n",
              "\n",
              "            dttl     sload     dload  ...  state_CON  state_ECO  state_FIN  \\\n",
              "0       1.578100 -0.389897 -0.273700  ...        0.0        0.0        1.0   \n",
              "1       1.560002 -0.389928 -0.069233  ...        0.0        0.0        1.0   \n",
              "2       1.560002 -0.389964 -0.252044  ...        0.0        0.0        1.0   \n",
              "3       1.560002 -0.389958 -0.275821  ...        0.0        0.0        1.0   \n",
              "4       1.560002 -0.389927 -0.275561  ...        0.0        0.0        1.0   \n",
              "...          ...       ...       ...  ...        ...        ...        ...   \n",
              "175336 -0.720406 -0.120980 -0.277208  ...        0.0        0.0        0.0   \n",
              "175337  1.560002 -0.389926 -0.275183  ...        0.0        0.0        1.0   \n",
              "175338 -0.720406 -0.120980 -0.277208  ...        0.0        0.0        0.0   \n",
              "175339 -0.720406 -0.120980 -0.277208  ...        0.0        0.0        0.0   \n",
              "175340 -0.720406 -0.120980 -0.277208  ...        0.0        0.0        0.0   \n",
              "\n",
              "        state_INT  state_PAR  state_REQ  state_RST  state_URN  state_no  label  \n",
              "0             0.0        0.0        0.0        0.0        0.0       0.0      0  \n",
              "1             0.0        0.0        0.0        0.0        0.0       0.0      0  \n",
              "2             0.0        0.0        0.0        0.0        0.0       0.0      0  \n",
              "3             0.0        0.0        0.0        0.0        0.0       0.0      0  \n",
              "4             0.0        0.0        0.0        0.0        0.0       0.0      0  \n",
              "...           ...        ...        ...        ...        ...       ...    ...  \n",
              "175336        1.0        0.0        0.0        0.0        0.0       0.0      1  \n",
              "175337        0.0        0.0        0.0        0.0        0.0       0.0      1  \n",
              "175338        1.0        0.0        0.0        0.0        0.0       0.0      1  \n",
              "175339        1.0        0.0        0.0        0.0        0.0       0.0      1  \n",
              "175340        1.0        0.0        0.0        0.0        0.0       0.0      1  \n",
              "\n",
              "[175341 rows x 189 columns]"
            ]
          },
          "execution_count": 30,
          "metadata": {},
          "output_type": "execute_result"
        }
      ],
      "source": [
        "train"
      ]
    },
    {
      "cell_type": "code",
      "execution_count": 24,
      "metadata": {},
      "outputs": [],
      "source": [
        "X_train, X_test, y_train, y_test = train_test_split(df.drop('label', axis=1), \n",
        "                                                    df.label, \n",
        "                                                    random_state=42\n",
        "                                                   )"
      ]
    },
    {
      "cell_type": "code",
      "execution_count": 28,
      "metadata": {},
      "outputs": [
        {
          "name": "stdout",
          "output_type": "stream",
          "text": [
            "c:\\Users\\user\\T5\\PROJECT\\classification\\workspace\\ml\n"
          ]
        }
      ],
      "source": [
        "cd ml"
      ]
    },
    {
      "cell_type": "code",
      "execution_count": 29,
      "metadata": {},
      "outputs": [],
      "source": [
        "# Load pre-trained/tuned models\n",
        "\n",
        "model_names = [\"lr_model\", \"knn_model\", \"rf_model\", \"et_model\"]\n",
        "\n",
        "for model_name in model_names:\n",
        "    with open(f\"models/{model_name}.pickle\", \"rb\") as pfile:\n",
        "        exec(f\"{model_name} = pickle.load(pfile)\")\n",
        "\n",
        "model_vars = [eval(n) for n in model_names]\n",
        "model_list = list(zip(model_names, model_vars))"
      ]
    },
    {
      "cell_type": "code",
      "execution_count": 30,
      "metadata": {},
      "outputs": [
        {
          "data": {
            "text/plain": [
              "[('lr_model', LogisticRegression(C=100, solver='newton-cg')),\n",
              " ('knn_model', KNeighborsClassifier(n_jobs=-1, n_neighbors=29)),\n",
              " ('rf_model',\n",
              "  RandomForestClassifier(max_depth=90, max_features=2, min_samples_leaf=5,\n",
              "                         min_samples_split=12)),\n",
              " ('et_model', ExtraTreesClassifier(random_state=1))]"
            ]
          },
          "execution_count": 30,
          "metadata": {},
          "output_type": "execute_result"
        }
      ],
      "source": [
        "model_list"
      ]
    },
    {
      "cell_type": "code",
      "execution_count": 31,
      "metadata": {},
      "outputs": [
        {
          "name": "stdout",
          "output_type": "stream",
          "text": [
            "lr_model score: 0.9341637010676157\n",
            "knn_model score: 0.9373574231225477\n",
            "rf_model score: 0.9386349119445205\n",
            "et_model score: 0.9536910302034857\n"
          ]
        }
      ],
      "source": [
        "# Quick peek at each model performance\n",
        "\n",
        "for model_name in model_names:\n",
        "    curr_model = eval(model_name)\n",
        "    print(f'{model_name} score: {curr_model.score(X_test, y_test)}')"
      ]
    },
    {
      "cell_type": "code",
      "execution_count": 38,
      "metadata": {},
      "outputs": [],
      "source": [
        "# create voting classifier\n",
        "voting_classifer = VotingClassifier(estimators=model_list,\n",
        "                                    voting='hard', #<-- sklearn calls this hard voting\n",
        "                                    n_jobs=-1)\n",
        "# voting_classifer.fit(X_train, y_train)"
      ]
    },
    {
      "cell_type": "code",
      "execution_count": 33,
      "metadata": {},
      "outputs": [
        {
          "name": "stdout",
          "output_type": "stream",
          "text": [
            "The score for voting classifier is\n",
            "Training:  95.71%\n",
            "Test set:  94.43%\n",
            "Precision: 0.9307,   Recall: 0.9920\n",
            "F1 : 0.9604\n"
          ]
        }
      ],
      "source": [
        "from sklearn.metrics import auc, f1_score, precision_score, recall_score\n",
        "\n",
        "y_predict = voting_classifer.predict(X_test)\n",
        "print(\"The score for voting classifier is\")\n",
        "print(\"Training: {:6.2f}%\".format(100*voting_classifer.score(X_train, y_train)))\n",
        "print(\"Test set: {:6.2f}%\".format(100*voting_classifer.score(X_test, y_test)))\n",
        "print(\"Precision: {:6.4f},   Recall: {:6.4f}\".format(precision_score(y_test, y_predict), \n",
        "                                                     recall_score(y_test, y_predict)))\n",
        "print('F1 : {:6.4f}'.format(f1_score(y_test, y_predict)))"
      ]
    },
    {
      "cell_type": "code",
      "execution_count": 39,
      "metadata": {},
      "outputs": [
        {
          "name": "stdout",
          "output_type": "stream",
          "text": [
            "+---------+----------+--------------------+--------------------+---------------------+\n",
            "| Dataset |  Model   |        AUC         |      F1-score      |   False Alarm Rate  |\n",
            "+---------+----------+--------------------+--------------------+---------------------+\n",
            "|  Train  | et_model | 0.935836771074305  | 0.969757614979253  | 0.06416322892569508 |\n",
            "|   Test  | et_model | 0.9176860757813567 | 0.9605617358025492 | 0.08231392421864318 |\n",
            "+---------+----------+--------------------+--------------------+---------------------+\n"
          ]
        },
        {
          "data": {
            "image/png": "[encoded data removed]",
            "text/plain": [
              "<Figure size 432x288 with 1 Axes>"
            ]
          },
          "metadata": {},
          "output_type": "display_data"
        },
        {
          "data": {
            "image/png": "[encoded data removed]",
            "text/plain": [
              "<Figure size 1152x360 with 4 Axes>"
            ]
          },
          "metadata": {},
          "output_type": "display_data"
        },
        {
          "data": {
            "text/plain": [
              "(VotingClassifier(estimators=[('lr_model',\n",
              "                               LogisticRegression(C=100, solver='newton-cg')),\n",
              "                              ('knn_model',\n",
              "                               KNeighborsClassifier(n_jobs=-1, n_neighbors=29)),\n",
              "                              ('rf_model',\n",
              "                               RandomForestClassifier(max_depth=90,\n",
              "                                                      max_features=2,\n",
              "                                                      min_samples_leaf=5,\n",
              "                                                      min_samples_split=12)),\n",
              "                              ('et_model',\n",
              "                               ExtraTreesClassifier(random_state=1))],\n",
              "                  n_jobs=-1),\n",
              " 0.9176860757813567,\n",
              " 0.9605617358025492,\n",
              " 0.08231392421864318)"
            ]
          },
          "execution_count": 39,
          "metadata": {},
          "output_type": "execute_result"
        }
      ],
      "source": [
        "evaluate_result(voting_classifer, X_train, y_train, X_test, y_test, model_name)"
      ]
    },
    {
      "cell_type": "markdown",
      "metadata": {},
      "source": [
        "The score for voting classifier is\n",
        "Training:  99.94%\n",
        "Test set:  94.27%\n",
        "Precision: 0.9398,   Recall: 0.9781\n",
        "F1 : 0.9586"
      ]
    },
    {
      "cell_type": "code",
      "execution_count": 34,
      "metadata": {},
      "outputs": [
        {
          "data": {
            "text/plain": [
              "VotingClassifier(estimators=[('lr_model',\n",
              "                              LogisticRegression(C=100, solver='newton-cg')),\n",
              "                             ('knn_model',\n",
              "                              KNeighborsClassifier(n_jobs=-1, n_neighbors=29)),\n",
              "                             ('rf_model',\n",
              "                              RandomForestClassifier(max_depth=90,\n",
              "                                                     max_features=2,\n",
              "                                                     min_samples_leaf=5,\n",
              "                                                     min_samples_split=12)),\n",
              "                             ('et_model',\n",
              "                              ExtraTreesClassifier(random_state=1))],\n",
              "                 n_jobs=-1, voting='soft')"
            ]
          },
          "execution_count": 34,
          "metadata": {},
          "output_type": "execute_result"
        }
      ],
      "source": [
        "# create voting classifier\n",
        "voting_classifer = VotingClassifier(estimators=model_list,\n",
        "                                    voting='soft', #<-- sklearn calls this soft voting\n",
        "                                    n_jobs=-1)\n",
        "voting_classifer.fit(X_train, y_train)"
      ]
    },
    {
      "cell_type": "code",
      "execution_count": 35,
      "metadata": {},
      "outputs": [
        {
          "name": "stdout",
          "output_type": "stream",
          "text": [
            "The score for voting classifier is\n",
            "Training:  97.70%\n",
            "Test set:  94.43%\n",
            "Precision: 0.9307,   Recall: 0.9920\n",
            "F1 : 0.9604\n"
          ]
        }
      ],
      "source": [
        "# Get accuracy (model to beat: RF with 0.8136 accuracy)\n",
        "y_pred = voting_classifer.predict(X_test)\n",
        "# accuracy_score(y_test, y_pred)\n",
        "print(\"The score for voting classifier is\")\n",
        "print(\"Training: {:6.2f}%\".format(100*voting_classifer.score(X_train, y_train)))\n",
        "print(\"Test set: {:6.2f}%\".format(100*voting_classifer.score(X_test, y_test)))\n",
        "print(\"Precision: {:6.4f},   Recall: {:6.4f}\".format(precision_score(y_test, y_predict), \n",
        "                                                     recall_score(y_test, y_predict)))\n",
        "print('F1 : {:6.4f}'.format(f1_score(y_test, y_predict)))"
      ]
    },
    {
      "cell_type": "code",
      "execution_count": 27,
      "metadata": {},
      "outputs": [
        {
          "data": {
            "text/plain": [
              "VotingClassifier(estimators=[('lr_model',\n",
              "                              LogisticRegression(C=100, random_state=1,\n",
              "                                                 solver='liblinear')),\n",
              "                             ('knn_model',\n",
              "                              KNeighborsClassifier(metric='manhattan',\n",
              "                                                   n_neighbors=26,\n",
              "                                                   weights='distance')),\n",
              "                             ('rf_model',\n",
              "                              RandomForestClassifier(random_state=1)),\n",
              "                             ('et_model',\n",
              "                              ExtraTreesClassifier(random_state=1))],\n",
              "                 n_jobs=-1, voting='soft', weights=[1, 1, 2.2, 4.2])"
            ]
          },
          "execution_count": 27,
          "metadata": {},
          "output_type": "execute_result"
        }
      ],
      "source": [
        "# create voting classifier\n",
        "weights = [1,1,2.2,4.2]\n",
        "voting_model = VotingClassifier(estimators=model_list,\n",
        "                                    voting='soft', \n",
        "                                    weights = weights,  #include weights\n",
        "                                    n_jobs=-1)\n",
        "voting_model.fit(X_train, y_train)"
      ]
    },
    {
      "cell_type": "code",
      "execution_count": 28,
      "metadata": {},
      "outputs": [
        {
          "data": {
            "text/plain": [
              "0.9441149635036497"
            ]
          },
          "execution_count": 28,
          "metadata": {},
          "output_type": "execute_result"
        }
      ],
      "source": [
        "# Get accuracy (model to beat: RF with 0.8136 accuracy)\n",
        "y_pred = voting_model.predict(X_test)\n",
        "# accuracy_score(y_test, y_pred)\n",
        "print(\"The score for voting classifier is\")\n",
        "print(\"Training: {:6.2f}%\".format(100*voting_model.score(X_train, y_train)))\n",
        "print(\"Test set: {:6.2f}%\".format(100*voting_model.score(X_test, y_test)))\n",
        "print(\"Precision: {:6.4f},   Recall: {:6.4f}\".format(precision_score(y_test, y_predict), \n",
        "                                                     recall_score(y_test, y_predict)))\n",
        "print('F1 : {:6.4f}'.format(f1_score(y_test, y_predict)))"
      ]
    },
    {
      "cell_type": "code",
      "execution_count": 29,
      "metadata": {},
      "outputs": [],
      "source": [
        "stacked = StackingClassifier(\n",
        "    classifiers=model_vars, meta_classifier=LogisticRegression(), use_probas=False)"
      ]
    },
    {
      "cell_type": "code",
      "execution_count": 30,
      "metadata": {},
      "outputs": [
        {
          "data": {
            "text/plain": [
              "StackingClassifier(classifiers=[LogisticRegression(C=100, random_state=1,\n",
              "                                                   solver='liblinear'),\n",
              "                                KNeighborsClassifier(metric='manhattan',\n",
              "                                                     n_neighbors=26,\n",
              "                                                     weights='distance'),\n",
              "                                RandomForestClassifier(random_state=1),\n",
              "                                ExtraTreesClassifier(random_state=1)],\n",
              "                   meta_classifier=LogisticRegression())"
            ]
          },
          "execution_count": 30,
          "metadata": {},
          "output_type": "execute_result"
        }
      ],
      "source": [
        "stacked.fit(X_train, y_train)"
      ]
    },
    {
      "cell_type": "code",
      "execution_count": 31,
      "metadata": {},
      "outputs": [
        {
          "data": {
            "text/plain": [
              "0.9420620437956204"
            ]
          },
          "execution_count": 31,
          "metadata": {},
          "output_type": "execute_result"
        }
      ],
      "source": [
        "y_pred = stacked.predict(X_test)\n",
        "# accuracy_score(y_test, y_pred)\n",
        "print(\"The score for voting classifier is\")\n",
        "print(\"Training: {:6.2f}%\".format(100*stacked.score(X_train, y_train)))\n",
        "print(\"Test set: {:6.2f}%\".format(100*stacked.score(X_test, y_test)))\n",
        "print(\"Precision: {:6.4f},   Recall: {:6.4f}\".format(precision_score(y_test, y_predict), \n",
        "                                                     recall_score(y_test, y_predict)))\n",
        "print('F1 : {:6.4f}'.format(f1_score(y_test, y_predict)))"
      ]
    },
    {
      "cell_type": "code",
      "execution_count": null,
      "metadata": {},
      "outputs": [],
      "source": [
        "et= ExtraTreesClassifier()"
      ]
    }
  ],
  "metadata": {
    "accelerator": "TPU",
    "colab": {
      "collapsed_sections": [],
      "name": "testmodeling copy.ipynb",
      "provenance": []
    },
    "interpreter": {
      "hash": "68e23a7f57ae66cbaaeb0d44a298b4f44f74c864adcc2ac0be4dd279ad965d7f"
    },
    "kernelspec": {
      "display_name": "Python 3.9.2 64-bit ('.venv': venv)",
      "language": "python",
      "name": "python3"
    },
    "language_info": {
      "codemirror_mode": {
        "name": "ipython",
        "version": 3
      },
      "file_extension": ".py",
      "mimetype": "text/x-python",
      "name": "python",
      "nbconvert_exporter": "python",
      "pygments_lexer": "ipython3",
      "version": "3.9.0"
    },
    "orig_nbformat": 4
  },
  "nbformat": 4,
  "nbformat_minor": 0
}
